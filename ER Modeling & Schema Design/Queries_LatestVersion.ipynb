{
 "cells": [
  {
   "cell_type": "code",
   "execution_count": 154,
   "id": "545fb097-759f-4859-a867-88a1d6305c33",
   "metadata": {},
   "outputs": [
    {
     "name": "stdout",
     "output_type": "stream",
     "text": [
      "The sql extension is already loaded. To reload it, use:\n",
      "  %reload_ext sql\n"
     ]
    }
   ],
   "source": [
    "%load_ext sql\n",
    "%sql sqlite:///AuctionBase.db"
   ]
  },
  {
   "cell_type": "code",
   "execution_count": 155,
   "id": "d9c605ac-9097-4ef1-8271-ef3c865e3e1e",
   "metadata": {
    "tags": []
   },
   "outputs": [
    {
     "name": "stdout",
     "output_type": "stream",
     "text": [
      " * sqlite:///AuctionBase.db\n",
      "Done.\n"
     ]
    },
    {
     "data": {
      "text/html": [
       "<table>\n",
       "    <thead>\n",
       "        <tr>\n",
       "            <th>count(*)</th>\n",
       "        </tr>\n",
       "    </thead>\n",
       "    <tbody>\n",
       "        <tr>\n",
       "            <td>13422</td>\n",
       "        </tr>\n",
       "    </tbody>\n",
       "</table>"
      ],
      "text/plain": [
       "[(13422,)]"
      ]
     },
     "execution_count": 155,
     "metadata": {},
     "output_type": "execute_result"
    }
   ],
   "source": [
    "%sql SELECT count(*) FROM user -- 1. Find the number of users in the database."
   ]
  },
  {
   "cell_type": "code",
   "execution_count": 156,
   "id": "04ba75b5-f666-4487-bd5d-f90785b60a1b",
   "metadata": {},
   "outputs": [
    {
     "name": "stdout",
     "output_type": "stream",
     "text": [
      " * sqlite:///AuctionBase.db\n",
      "Done.\n"
     ]
    },
    {
     "data": {
      "text/html": [
       "<table>\n",
       "    <thead>\n",
       "        <tr>\n",
       "            <th>NumOfNyUsers</th>\n",
       "        </tr>\n",
       "    </thead>\n",
       "    <tbody>\n",
       "        <tr>\n",
       "            <td>80</td>\n",
       "        </tr>\n",
       "    </tbody>\n",
       "</table>"
      ],
      "text/plain": [
       "[(80,)]"
      ]
     },
     "execution_count": 156,
     "metadata": {},
     "output_type": "execute_result"
    }
   ],
   "source": [
    "%%sql SELECT COUNT(*) AS NumOfNyUsers \n",
    "        FROM USER U\n",
    "        WHERE U.Location = \"New York\" --2. Find the number of users from New York (i.e., users whose location is the string \"New York\").\n"
   ]
  },
  {
   "cell_type": "code",
   "execution_count": 157,
   "id": "610810c2-489e-428c-99b7-16a6c1b6617d",
   "metadata": {},
   "outputs": [
    {
     "name": "stdout",
     "output_type": "stream",
     "text": [
      " * sqlite:///AuctionBase.db\n",
      "Done.\n"
     ]
    },
    {
     "data": {
      "text/html": [
       "<table>\n",
       "    <thead>\n",
       "        <tr>\n",
       "            <th>COUNT(*)</th>\n",
       "        </tr>\n",
       "    </thead>\n",
       "    <tbody>\n",
       "        <tr>\n",
       "            <td>8365</td>\n",
       "        </tr>\n",
       "    </tbody>\n",
       "</table>"
      ],
      "text/plain": [
       "[(8365,)]"
      ]
     },
     "execution_count": 157,
     "metadata": {},
     "output_type": "execute_result"
    }
   ],
   "source": [
    "%%sql SELECT COUNT(*)\n",
    "      FROM(SELECT COUNT(*) AS NumOfCategories\n",
    "            FROM Category C, Item I\n",
    "            WHERE C.ItemId = I.ItemId \n",
    "            GROUP BY C.ItemId\n",
    "            HAVING NumOfCategories = 4\n",
    "            )  --   3. Find the number of auctions belonging to exactly four categories."
   ]
  },
  {
   "cell_type": "code",
   "execution_count": 158,
   "id": "cb335e3b-2b4a-4d0b-9dd9-0b27ae077e07",
   "metadata": {},
   "outputs": [
    {
     "name": "stdout",
     "output_type": "stream",
     "text": [
      " * sqlite:///AuctionBase.db\n",
      "Done.\n"
     ]
    },
    {
     "data": {
      "text/html": [
       "<table>\n",
       "    <thead>\n",
       "        <tr>\n",
       "            <th>ItemId</th>\n",
       "            <th>MAX_PRICE</th>\n",
       "        </tr>\n",
       "    </thead>\n",
       "    <tbody>\n",
       "        <tr>\n",
       "            <td>1046871451</td>\n",
       "            <td>18000.0</td>\n",
       "        </tr>\n",
       "    </tbody>\n",
       "</table>"
      ],
      "text/plain": [
       "[(1046871451, 18000.0)]"
      ]
     },
     "execution_count": 158,
     "metadata": {},
     "output_type": "execute_result"
    }
   ],
   "source": [
    "%%sql SELECT I.ItemId, MAX(I.Currently) AS MAX_PRICE  --we just need the ItemID, not the price\n",
    "        FROM Item I        --4. Find the ID(s) of auction(s) with the highest current price."
   ]
  },
  {
   "cell_type": "code",
   "execution_count": 159,
   "id": "50047176-ee36-4621-97c4-abd5aee93039",
   "metadata": {},
   "outputs": [
    {
     "name": "stdout",
     "output_type": "stream",
     "text": [
      " * sqlite:///AuctionBase.db\n",
      "Done.\n"
     ]
    },
    {
     "data": {
      "text/html": [
       "<table>\n",
       "    <thead>\n",
       "        <tr>\n",
       "            <th>ItemId</th>\n",
       "        </tr>\n",
       "    </thead>\n",
       "    <tbody>\n",
       "        <tr>\n",
       "            <td>1046871451</td>\n",
       "        </tr>\n",
       "    </tbody>\n",
       "</table>"
      ],
      "text/plain": [
       "[(1046871451,)]"
      ]
     },
     "execution_count": 159,
     "metadata": {},
     "output_type": "execute_result"
    }
   ],
   "source": [
    "%%sql SELECT I.ItemId\n",
    "        FROM Item I\n",
    "        JOIN (\n",
    "            SELECT MAX(Currently) AS MAX_PRICE\n",
    "            FROM Item\n",
    "        ) AS MaxPrice\n",
    "        ON I.Currently = MaxPrice.MAX_PRICE;\n"
   ]
  },
  {
   "cell_type": "code",
   "execution_count": 160,
   "id": "12fa105f-e9bc-4318-a964-458b81b57de9",
   "metadata": {},
   "outputs": [
    {
     "name": "stdout",
     "output_type": "stream",
     "text": [
      " * sqlite:///AuctionBase.db\n",
      "Done.\n"
     ]
    },
    {
     "data": {
      "text/html": [
       "<table>\n",
       "    <thead>\n",
       "        <tr>\n",
       "            <th>NumSellersWithHighRating</th>\n",
       "        </tr>\n",
       "    </thead>\n",
       "    <tbody>\n",
       "        <tr>\n",
       "            <td>3130</td>\n",
       "        </tr>\n",
       "    </tbody>\n",
       "</table>"
      ],
      "text/plain": [
       "[(3130,)]"
      ]
     },
     "execution_count": 160,
     "metadata": {},
     "output_type": "execute_result"
    }
   ],
   "source": [
    "%%sql SELECT COUNT(DISTINCT U.UserId) AS NumSellersWithHighRating\n",
    "FROM User U\n",
    "JOIN Item I ON U.UserId = I.UserId\n",
    "WHERE U.Rating > 1000; -- 5. Find the number of sellers whose rating is higher than 1000."
   ]
  },
  {
   "cell_type": "code",
   "execution_count": null,
   "id": "942293b4-1150-4083-8942-7e091c1a7c19",
   "metadata": {},
   "outputs": [],
   "source": []
  },
  {
   "cell_type": "code",
   "execution_count": 161,
   "id": "6caa7b55-c317-4cfd-be21-68703f81bdad",
   "metadata": {},
   "outputs": [
    {
     "name": "stdout",
     "output_type": "stream",
     "text": [
      " * sqlite:///AuctionBase.db\n",
      "Done.\n"
     ]
    },
    {
     "data": {
      "text/html": [
       "<table>\n",
       "    <thead>\n",
       "        <tr>\n",
       "            <th>NumOf_SellAndBid</th>\n",
       "        </tr>\n",
       "    </thead>\n",
       "    <tbody>\n",
       "        <tr>\n",
       "            <td>6717</td>\n",
       "        </tr>\n",
       "    </tbody>\n",
       "</table>"
      ],
      "text/plain": [
       "[(6717,)]"
      ]
     },
     "execution_count": 161,
     "metadata": {},
     "output_type": "execute_result"
    }
   ],
   "source": [
    "%%sql SELECT COUNT(DISTINCT B.UserId) AS NumOf_SellAndBid\n",
    "        FROM Bid B, Item I\n",
    "        WHERE B.UserId  = I.UserId     -- 6. Find the number of users who are both sellers and bidders.\n"
   ]
  },
  {
   "cell_type": "code",
   "execution_count": null,
   "id": "f1f182b3-65b9-4589-b7e6-bb5779de17ab",
   "metadata": {},
   "outputs": [],
   "source": [
    "%%sql SELECT COUNT(DISTINCT c.Category_Name) AS Number_of_Categories\n",
    "FROM Category c,  Bid b\n",
    "WHERE c.ItemId = b.ItemId\n",
    "AND b.Amount > 100 \n",
    "AND b.Amount != \"NULL\"  -- 7. Find the number of categories that include at least one item with a bid of more than $100."
   ]
  },
  {
   "cell_type": "code",
   "execution_count": 163,
   "id": "586aea6f-180b-4251-b063-a215527ead28",
   "metadata": {},
   "outputs": [
    {
     "name": "stdout",
     "output_type": "stream",
     "text": [
      " * sqlite:///AuctionBase.db\n",
      "Done.\n"
     ]
    },
    {
     "data": {
      "text/html": [
       "<table>\n",
       "    <thead>\n",
       "        <tr>\n",
       "            <th>sql</th>\n",
       "        </tr>\n",
       "    </thead>\n",
       "    <tbody>\n",
       "        <tr>\n",
       "            <td>CREATE TABLE Item (<br>    ItemId INTEGER NOT NULL,<br>    UserId TEXT,<br>    Name TEXT,<br>    Number_of_Bids INTEGER,<br>    First_Bid REAL,<br>    Buy_Price REAL,<br>    Currently REAL,<br>    Started DATETIME,<br>    Ends TEXT,<br>    Description TEXT,<br>    PRIMARY KEY(ItemId)<br>)</td>\n",
       "        </tr>\n",
       "        <tr>\n",
       "            <td>CREATE TABLE User (<br>    UserId TEXT NOT NULL UNIQUE,<br>    Location TEXT,<br>    Country TEXT,<br>    Rating INTEGER,<br>    PRIMARY KEY(UserId)<br>)</td>\n",
       "        </tr>\n",
       "        <tr>\n",
       "            <td>None</td>\n",
       "        </tr>\n",
       "        <tr>\n",
       "            <td>CREATE TABLE Category (<br>    Category_Name TEXT NOT NULL,<br>    ItemId INTEGER NOT NULL,<br>    FOREIGN KEY (ItemId) REFERENCES Item(ItemId) PRIMARY KEY(Category_Name, ItemId)<br>)</td>\n",
       "        </tr>\n",
       "        <tr>\n",
       "            <td>None</td>\n",
       "        </tr>\n",
       "        <tr>\n",
       "            <td>CREATE TABLE Bid (<br>    ItemId INTEGER NOT NULL,<br>    UserId INTEGER NOT NULL,<br>    Time DATETIME,<br>    Amount REAL NOT NULL,<br>    FOREIGN KEY(ItemId) REFERENCES Item(ItemId) FOREIGN KEY(UserId) REFERENCES User(UserId) PRIMARY KEY(ItemId, UserId, Amount)<br>)</td>\n",
       "        </tr>\n",
       "        <tr>\n",
       "            <td>None</td>\n",
       "        </tr>\n",
       "    </tbody>\n",
       "</table>"
      ],
      "text/plain": [
       "[('CREATE TABLE Item (\\n    ItemId INTEGER NOT NULL,\\n    UserId TEXT,\\n    Name TEXT,\\n    Number_of_Bids INTEGER,\\n    First_Bid REAL,\\n    Buy_Price REAL,\\n    Currently REAL,\\n    Started DATETIME,\\n    Ends TEXT,\\n    Description TEXT,\\n    PRIMARY KEY(ItemId)\\n)',),\n",
       " ('CREATE TABLE User (\\n    UserId TEXT NOT NULL UNIQUE,\\n    Location TEXT,\\n    Country TEXT,\\n    Rating INTEGER,\\n    PRIMARY KEY(UserId)\\n)',),\n",
       " (None,),\n",
       " ('CREATE TABLE Category (\\n    Category_Name TEXT NOT NULL,\\n    ItemId INTEGER NOT NULL,\\n    FOREIGN KEY (ItemId) REFERENCES Item(ItemId) PRIMARY KEY(Category_Name, ItemId)\\n)',),\n",
       " (None,),\n",
       " ('CREATE TABLE Bid (\\n    ItemId INTEGER NOT NULL,\\n    UserId INTEGER NOT NULL,\\n    Time DATETIME,\\n    Amount REAL NOT NULL,\\n    FOREIGN KEY(ItemId) REFERENCES Item(ItemId) FOREIGN KEY(UserId) REFERENCES User(UserId) PRIMARY KEY(ItemId, UserId, Amount)\\n)',),\n",
       " (None,)]"
      ]
     },
     "execution_count": 163,
     "metadata": {},
     "output_type": "execute_result"
    }
   ],
   "source": [
    "%sql SELECT sql FROM sqlite_master;"
   ]
  },
  {
   "cell_type": "code",
   "execution_count": null,
   "id": "ef7ca09a-16c2-4b81-a1f3-72b49dd6f371",
   "metadata": {},
   "outputs": [],
   "source": []
  }
 ],
 "metadata": {
  "kernelspec": {
   "display_name": "Python 3 (ipykernel)",
   "language": "python",
   "name": "python3"
  },
  "language_info": {
   "codemirror_mode": {
    "name": "ipython",
    "version": 3
   },
   "file_extension": ".py",
   "mimetype": "text/x-python",
   "name": "python",
   "nbconvert_exporter": "python",
   "pygments_lexer": "ipython3",
   "version": "3.10.12"
  }
 },
 "nbformat": 4,
 "nbformat_minor": 5
}
