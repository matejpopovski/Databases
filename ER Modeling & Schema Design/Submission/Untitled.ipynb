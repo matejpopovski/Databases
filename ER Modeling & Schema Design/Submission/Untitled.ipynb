{
 "cells": [
  {
   "cell_type": "code",
   "execution_count": 213,
   "id": "545fb097-759f-4859-a867-88a1d6305c33",
   "metadata": {},
   "outputs": [
    {
     "name": "stdout",
     "output_type": "stream",
     "text": [
      "The sql extension is already loaded. To reload it, use:\n",
      "  %reload_ext sql\n"
     ]
    }
   ],
   "source": [
    "%load_ext sql\n",
    "%sql sqlite:///AuctionBase.db"
   ]
  },
  {
   "cell_type": "code",
   "execution_count": 214,
   "id": "897b8025-a032-44ab-8286-7641c0a9498f",
   "metadata": {},
   "outputs": [],
   "source": [
    "%reload_ext sql"
   ]
  },
  {
   "cell_type": "code",
   "execution_count": 215,
   "id": "d9c605ac-9097-4ef1-8271-ef3c865e3e1e",
   "metadata": {
    "tags": []
   },
   "outputs": [
    {
     "name": "stdout",
     "output_type": "stream",
     "text": [
      " * sqlite:///AuctionBase.db\n",
      "Done.\n"
     ]
    },
    {
     "data": {
      "text/html": [
       "<table>\n",
       "    <thead>\n",
       "        <tr>\n",
       "            <th>count(*)</th>\n",
       "        </tr>\n",
       "    </thead>\n",
       "    <tbody>\n",
       "        <tr>\n",
       "            <td>13422</td>\n",
       "        </tr>\n",
       "    </tbody>\n",
       "</table>"
      ],
      "text/plain": [
       "[(13422,)]"
      ]
     },
     "execution_count": 215,
     "metadata": {},
     "output_type": "execute_result"
    }
   ],
   "source": [
    "%sql SELECT count(*) FROM user"
   ]
  },
  {
   "cell_type": "code",
   "execution_count": 216,
   "id": "04ba75b5-f666-4487-bd5d-f90785b60a1b",
   "metadata": {},
   "outputs": [
    {
     "name": "stdout",
     "output_type": "stream",
     "text": [
      " * sqlite:///AuctionBase.db\n",
      "Done.\n"
     ]
    },
    {
     "data": {
      "text/html": [
       "<table>\n",
       "    <thead>\n",
       "        <tr>\n",
       "            <th>NumOfNyUsers</th>\n",
       "        </tr>\n",
       "    </thead>\n",
       "    <tbody>\n",
       "        <tr>\n",
       "            <td>80</td>\n",
       "        </tr>\n",
       "    </tbody>\n",
       "</table>"
      ],
      "text/plain": [
       "[(80,)]"
      ]
     },
     "execution_count": 216,
     "metadata": {},
     "output_type": "execute_result"
    }
   ],
   "source": [
    "%%sql SELECT COUNT(*) AS NumOfNyUsers \n",
    "        FROM USER U\n",
    "        WHERE U.Location = \"New York\"\n"
   ]
  },
  {
   "cell_type": "code",
   "execution_count": 217,
   "id": "610810c2-489e-428c-99b7-16a6c1b6617d",
   "metadata": {},
   "outputs": [
    {
     "name": "stdout",
     "output_type": "stream",
     "text": [
      " * sqlite:///AuctionBase.db\n",
      "Done.\n"
     ]
    },
    {
     "data": {
      "text/html": [
       "<table>\n",
       "    <thead>\n",
       "        <tr>\n",
       "            <th>COUNT(*)</th>\n",
       "        </tr>\n",
       "    </thead>\n",
       "    <tbody>\n",
       "        <tr>\n",
       "            <td>8365</td>\n",
       "        </tr>\n",
       "    </tbody>\n",
       "</table>"
      ],
      "text/plain": [
       "[(8365,)]"
      ]
     },
     "execution_count": 217,
     "metadata": {},
     "output_type": "execute_result"
    }
   ],
   "source": [
    "%%sql SELECT COUNT(*)\n",
    "      FROM(SELECT COUNT(*) AS NumOfCategories\n",
    "            FROM Category C, Item I\n",
    "            WHERE C.ItemId = I.ItemId \n",
    "            GROUP BY C.ItemId\n",
    "            HAVING NumOfCategories = 4\n",
    "            )"
   ]
  },
  {
   "cell_type": "code",
   "execution_count": 218,
   "id": "50047176-ee36-4621-97c4-abd5aee93039",
   "metadata": {},
   "outputs": [
    {
     "name": "stdout",
     "output_type": "stream",
     "text": [
      " * sqlite:///AuctionBase.db\n",
      "Done.\n"
     ]
    },
    {
     "data": {
      "text/html": [
       "<table>\n",
       "    <thead>\n",
       "        <tr>\n",
       "            <th>ItemId</th>\n",
       "        </tr>\n",
       "    </thead>\n",
       "    <tbody>\n",
       "        <tr>\n",
       "            <td>1046871451</td>\n",
       "        </tr>\n",
       "    </tbody>\n",
       "</table>"
      ],
      "text/plain": [
       "[(1046871451,)]"
      ]
     },
     "execution_count": 218,
     "metadata": {},
     "output_type": "execute_result"
    }
   ],
   "source": [
    "%%sql SELECT I.ItemId\n",
    "        FROM Item I\n",
    "        JOIN (\n",
    "            SELECT MAX(Currently) AS MAX_PRICE\n",
    "            FROM Item\n",
    "        ) AS MaxPrice\n",
    "        ON I.Currently = MaxPrice.MAX_PRICE\n"
   ]
  },
  {
   "cell_type": "code",
   "execution_count": 219,
   "id": "12fa105f-e9bc-4318-a964-458b81b57de9",
   "metadata": {},
   "outputs": [
    {
     "name": "stdout",
     "output_type": "stream",
     "text": [
      " * sqlite:///AuctionBase.db\n",
      "Done.\n"
     ]
    },
    {
     "data": {
      "text/html": [
       "<table>\n",
       "    <thead>\n",
       "        <tr>\n",
       "            <th>NumSellersWithHighRating</th>\n",
       "        </tr>\n",
       "    </thead>\n",
       "    <tbody>\n",
       "        <tr>\n",
       "            <td>3130</td>\n",
       "        </tr>\n",
       "    </tbody>\n",
       "</table>"
      ],
      "text/plain": [
       "[(3130,)]"
      ]
     },
     "execution_count": 219,
     "metadata": {},
     "output_type": "execute_result"
    }
   ],
   "source": [
    "%%sql SELECT COUNT(DISTINCT U.UserId) AS NumSellersWithHighRating\n",
    "FROM User U\n",
    "JOIN Item I ON U.UserId = I.UserId\n",
    "WHERE U.Rating > 1000"
   ]
  },
  {
   "cell_type": "code",
   "execution_count": 220,
   "id": "6caa7b55-c317-4cfd-be21-68703f81bdad",
   "metadata": {},
   "outputs": [
    {
     "name": "stdout",
     "output_type": "stream",
     "text": [
      " * sqlite:///AuctionBase.db\n",
      "Done.\n"
     ]
    },
    {
     "data": {
      "text/html": [
       "<table>\n",
       "    <thead>\n",
       "        <tr>\n",
       "            <th>NumOf_SellAndBid</th>\n",
       "        </tr>\n",
       "    </thead>\n",
       "    <tbody>\n",
       "        <tr>\n",
       "            <td>6717</td>\n",
       "        </tr>\n",
       "    </tbody>\n",
       "</table>"
      ],
      "text/plain": [
       "[(6717,)]"
      ]
     },
     "execution_count": 220,
     "metadata": {},
     "output_type": "execute_result"
    }
   ],
   "source": [
    "%%sql SELECT COUNT(DISTINCT B.UserId) AS NumOf_SellAndBid\n",
    "        FROM Bid B, Item I\n",
    "        WHERE B.UserId  = I.UserId"
   ]
  },
  {
   "cell_type": "code",
   "execution_count": 221,
   "id": "f1f182b3-65b9-4589-b7e6-bb5779de17ab",
   "metadata": {},
   "outputs": [
    {
     "name": "stdout",
     "output_type": "stream",
     "text": [
      " * sqlite:///AuctionBase.db\n",
      "Done.\n"
     ]
    },
    {
     "data": {
      "text/html": [
       "<table>\n",
       "    <thead>\n",
       "        <tr>\n",
       "            <th>Number_of_Categories</th>\n",
       "        </tr>\n",
       "    </thead>\n",
       "    <tbody>\n",
       "        <tr>\n",
       "            <td>150</td>\n",
       "        </tr>\n",
       "    </tbody>\n",
       "</table>"
      ],
      "text/plain": [
       "[(150,)]"
      ]
     },
     "execution_count": 221,
     "metadata": {},
     "output_type": "execute_result"
    }
   ],
   "source": [
    "%%sql SELECT COUNT(DISTINCT c.Category_Name) AS Number_of_Categories\n",
    "FROM Category c,  Bid b\n",
    "WHERE c.ItemId = b.ItemId\n",
    "AND b.Amount > 100 \n",
    "AND b.Amount != \"NULL\""
   ]
  },
  {
   "cell_type": "code",
   "execution_count": 212,
   "id": "c10d28c5-37f5-4415-b821-8fdcced0507a",
   "metadata": {},
   "outputs": [
    {
     "name": "stdout",
     "output_type": "stream",
     "text": [
      "13422\n",
      "80\n",
      "8365\n",
      "1046871451\n",
      "3130\n",
      "6717\n",
      "150\n"
     ]
    }
   ],
   "source": [
    "!sqlite3 AuctionBase.db < query1.sql\n",
    "!sqlite3 AuctionBase.db < query2.sql\n",
    "!sqlite3 AuctionBase.db < query3.sql\n",
    "!sqlite3 AuctionBase.db < query4.sql\n",
    "!sqlite3 AuctionBase.db < query5.sql\n",
    "!sqlite3 AuctionBase.db < query6.sql\n",
    "!sqlite3 AuctionBase.db < query7.sql\n"
   ]
  },
  {
   "cell_type": "code",
   "execution_count": null,
   "id": "3be1cb9f-44e1-4a6a-af8d-e1a1767c3e3f",
   "metadata": {},
   "outputs": [],
   "source": []
  }
 ],
 "metadata": {
  "kernelspec": {
   "display_name": "Python 3 (ipykernel)",
   "language": "python",
   "name": "python3"
  },
  "language_info": {
   "codemirror_mode": {
    "name": "ipython",
    "version": 3
   },
   "file_extension": ".py",
   "mimetype": "text/x-python",
   "name": "python",
   "nbconvert_exporter": "python",
   "pygments_lexer": "ipython3",
   "version": "3.10.12"
  }
 },
 "nbformat": 4,
 "nbformat_minor": 5
}
