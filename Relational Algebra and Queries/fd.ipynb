{
 "cells": [
  {
   "cell_type": "markdown",
   "metadata": {},
   "source": [
    "Problem Set 3\n",
    "=======\n",
    "\n",
    "### Instructions and Setup\n",
    "\n",
    "* Run the cell below to load the database (make sure `hospital.db` is in the current directory)\n",
    "* If you incorrectly changed the database, you can always re-download `hospital.db` for a fresh start.\n",
    "* You **may** create new cells in the notebook to use for e.g. testing, debugging, etc.- this is encouraged in fact!. However, make sure that\n",
    "  * **You remove any test queries or unnecessary queries in the final submission, and**\n",
    "  * **Your final answer for each question is in its own designated cell**\n",
    "* When you see `In [*]:` to the left of the cell you are executing, this means that the code / query is _running_.\n",
    "  * * **If execution is stuck - i.e. the cell has been running for too long, try restarting the SQL connection and restarting the entire python kernel**\n",
    "  * To restart kernel using the menu bar: `Kernel >> Restart >> Clear all outputs & restart`, then re-execute the sql connection cell below\n",
    "  * You will also need to restart the connection if you want to load a different version of the database file"
   ]
  },
  {
   "cell_type": "code",
   "execution_count": 1,
   "metadata": {},
   "outputs": [],
   "source": [
    "# Load the SQL extension. Allows you to run SQL queries in your notebook.\n",
    "%load_ext sql\n",
    "\n",
    "# Connect to a SQLite database (named hospital.db) located in the current directory.\n",
    "# Note: If 'hospital.db' isn't present, an empty database will be created.\n",
    "%sql sqlite:///hospital.db"
   ]
  },
  {
   "cell_type": "markdown",
   "metadata": {},
   "source": [
    "Problem 1: Verifying Functional Dependencies [20 points]\n",
    "---------\n",
    "\n",
    "For this part, you will need to provide a _single_ SQL query which will check whether a certain condition holds on the **hospital** table in the provided database:"
   ]
  },
  {
   "cell_type": "code",
   "execution_count": 9,
   "metadata": {},
   "outputs": [
    {
     "name": "stdout",
     "output_type": "stream",
     "text": [
      " * sqlite:///hospital.db\n",
      "Done.\n"
     ]
    },
    {
     "data": {
      "text/html": [
       "<table>\n",
       "    <thead>\n",
       "        <tr>\n",
       "            <th>provider</th>\n",
       "            <th>hospital</th>\n",
       "            <th>address</th>\n",
       "            <th>city</th>\n",
       "            <th>state</th>\n",
       "            <th>zip</th>\n",
       "            <th>county</th>\n",
       "            <th>phone_number</th>\n",
       "            <th>hospital_type</th>\n",
       "            <th>hospital_owner</th>\n",
       "            <th>emergency_service</th>\n",
       "            <th>condition</th>\n",
       "            <th>measure_code</th>\n",
       "        </tr>\n",
       "    </thead>\n",
       "    <tbody>\n",
       "        <tr>\n",
       "            <td>10018</td>\n",
       "            <td>CALLAHAN EYE FOUNDATION HOSPITAL</td>\n",
       "            <td>1720 UNIVERSITY BLVD</td>\n",
       "            <td>BIRMINGHAM</td>\n",
       "            <td>AL</td>\n",
       "            <td>35233</td>\n",
       "            <td>JEFFERSON</td>\n",
       "            <td>2053258100</td>\n",
       "            <td>Acute Care Hospitals</td>\n",
       "            <td>Voluntary non-profit - Private</td>\n",
       "            <td>Yes</td>\n",
       "            <td>Surgical Infection Prevention</td>\n",
       "            <td>SCIP-CARD-2</td>\n",
       "        </tr>\n",
       "        <tr>\n",
       "            <td>10018</td>\n",
       "            <td>CALLAHAN EYE FOUNDATION HOSPITAL</td>\n",
       "            <td>1720 UNIVERSITY BLVD</td>\n",
       "            <td>BIRMINGHAM</td>\n",
       "            <td>AL</td>\n",
       "            <td>35233</td>\n",
       "            <td>JEFFERSON</td>\n",
       "            <td>2053258100</td>\n",
       "            <td>Acute Care Hospitals</td>\n",
       "            <td>Voluntary non-profit - Private</td>\n",
       "            <td>Yes</td>\n",
       "            <td>Surgical Infection Prevention</td>\n",
       "            <td>SCIP-INF-1</td>\n",
       "        </tr>\n",
       "        <tr>\n",
       "            <td>10018</td>\n",
       "            <td>CALLAHAN EYE FOUNDATION HOSPITAL</td>\n",
       "            <td>1720 UNIVERSITY BLVD</td>\n",
       "            <td>BIRMINGHAM</td>\n",
       "            <td>AL</td>\n",
       "            <td>35233</td>\n",
       "            <td>JEFFERSON</td>\n",
       "            <td>2053258100</td>\n",
       "            <td>Acute Care Hospitals</td>\n",
       "            <td>Voluntary non-profit - Private</td>\n",
       "            <td>Yes</td>\n",
       "            <td>Surgical Infection Prevention</td>\n",
       "            <td>SCIP-INF-2</td>\n",
       "        </tr>\n",
       "        <tr>\n",
       "            <td>10018</td>\n",
       "            <td>CALLAHAN EYE FOUNDATION HOSPITAL</td>\n",
       "            <td>1720 UNIVERSITY BLVD</td>\n",
       "            <td>BIRMINGHAM</td>\n",
       "            <td>AL</td>\n",
       "            <td>35233</td>\n",
       "            <td>JEFFERSON</td>\n",
       "            <td>2053258100</td>\n",
       "            <td>Acute Care Hospitals</td>\n",
       "            <td>Voluntary non-profit - Private</td>\n",
       "            <td>Yes</td>\n",
       "            <td>Surgical Infection Prevention</td>\n",
       "            <td>SCIP-INF-3</td>\n",
       "        </tr>\n",
       "        <tr>\n",
       "            <td>10018</td>\n",
       "            <td>CALLAHAN EYE FOUNDATION HOSPITAL</td>\n",
       "            <td>1720 UNIVERSITY BLVD</td>\n",
       "            <td>BIRMINGHAM</td>\n",
       "            <td>AL</td>\n",
       "            <td>35233</td>\n",
       "            <td>JEFFERSON</td>\n",
       "            <td>2053258100</td>\n",
       "            <td>Acute Care Hospitals</td>\n",
       "            <td>Voluntary non-profit - Private</td>\n",
       "            <td>Yes</td>\n",
       "            <td>Surgical Infection Prevention</td>\n",
       "            <td>SCIP-INF-4</td>\n",
       "        </tr>\n",
       "    </tbody>\n",
       "</table>"
      ],
      "text/plain": [
       "[(10018, 'CALLAHAN EYE FOUNDATION HOSPITAL', '1720 UNIVERSITY BLVD', 'BIRMINGHAM', 'AL', 35233, 'JEFFERSON', 2053258100, 'Acute Care Hospitals', 'Voluntary non-profit - Private', 'Yes', 'Surgical Infection Prevention', 'SCIP-CARD-2'),\n",
       " (10018, 'CALLAHAN EYE FOUNDATION HOSPITAL', '1720 UNIVERSITY BLVD', 'BIRMINGHAM', 'AL', 35233, 'JEFFERSON', 2053258100, 'Acute Care Hospitals', 'Voluntary non-profit - Private', 'Yes', 'Surgical Infection Prevention', 'SCIP-INF-1'),\n",
       " (10018, 'CALLAHAN EYE FOUNDATION HOSPITAL', '1720 UNIVERSITY BLVD', 'BIRMINGHAM', 'AL', 35233, 'JEFFERSON', 2053258100, 'Acute Care Hospitals', 'Voluntary non-profit - Private', 'Yes', 'Surgical Infection Prevention', 'SCIP-INF-2'),\n",
       " (10018, 'CALLAHAN EYE FOUNDATION HOSPITAL', '1720 UNIVERSITY BLVD', 'BIRMINGHAM', 'AL', 35233, 'JEFFERSON', 2053258100, 'Acute Care Hospitals', 'Voluntary non-profit - Private', 'Yes', 'Surgical Infection Prevention', 'SCIP-INF-3'),\n",
       " (10018, 'CALLAHAN EYE FOUNDATION HOSPITAL', '1720 UNIVERSITY BLVD', 'BIRMINGHAM', 'AL', 35233, 'JEFFERSON', 2053258100, 'Acute Care Hospitals', 'Voluntary non-profit - Private', 'Yes', 'Surgical Infection Prevention', 'SCIP-INF-4')]"
      ]
     },
     "execution_count": 9,
     "metadata": {},
     "output_type": "execute_result"
    }
   ],
   "source": [
    "%sql select * from hospital limit 5;"
   ]
  },
  {
   "cell_type": "markdown",
   "metadata": {},
   "source": [
    "You need to evaluate any requested conditions in the following way: **your query should return an empty result if and only if the condition holds on the instance.**  If the condition doesn't hold, your query should return something non-empty, but it doesn't matter what this is (hint: find contradictions).\n",
    "\n",
    "Note our language here: the conditions that we specify cannot be proved to hold **in general** without knowing the externally-defined functional dependencies; so what we mean is, _check whether they **are not violated** for the provided instance_.\n",
    "\n",
    "You may assume that there are no `NULL` values in the tables."
   ]
  },
  {
   "cell_type": "markdown",
   "metadata": {},
   "source": [
    "### Part (a)  [10 points]\n",
    "\n",
    "Is $\\{provider\\}$ a **superkey** for relation $Hospital$?"
   ]
  },
  {
   "cell_type": "code",
   "execution_count": 17,
   "metadata": {
    "tags": []
   },
   "outputs": [
    {
     "name": "stdout",
     "output_type": "stream",
     "text": [
      " * sqlite:///hospital.db\n",
      "Done.\n"
     ]
    },
    {
     "data": {
      "text/html": [
       "<table>\n",
       "    <thead>\n",
       "        <tr>\n",
       "            <th>provider</th>\n",
       "            <th>numOfRows</th>\n",
       "        </tr>\n",
       "    </thead>\n",
       "    <tbody>\n",
       "        <tr>\n",
       "            <td>10001</td>\n",
       "            <td>25</td>\n",
       "        </tr>\n",
       "        <tr>\n",
       "            <td>10005</td>\n",
       "            <td>25</td>\n",
       "        </tr>\n",
       "        <tr>\n",
       "            <td>10006</td>\n",
       "            <td>25</td>\n",
       "        </tr>\n",
       "        <tr>\n",
       "            <td>10007</td>\n",
       "            <td>25</td>\n",
       "        </tr>\n",
       "        <tr>\n",
       "            <td>10008</td>\n",
       "            <td>25</td>\n",
       "        </tr>\n",
       "        <tr>\n",
       "            <td>10009</td>\n",
       "            <td>25</td>\n",
       "        </tr>\n",
       "        <tr>\n",
       "            <td>10010</td>\n",
       "            <td>25</td>\n",
       "        </tr>\n",
       "        <tr>\n",
       "            <td>10011</td>\n",
       "            <td>25</td>\n",
       "        </tr>\n",
       "        <tr>\n",
       "            <td>10012</td>\n",
       "            <td>25</td>\n",
       "        </tr>\n",
       "        <tr>\n",
       "            <td>10015</td>\n",
       "            <td>25</td>\n",
       "        </tr>\n",
       "        <tr>\n",
       "            <td>10016</td>\n",
       "            <td>25</td>\n",
       "        </tr>\n",
       "        <tr>\n",
       "            <td>10018</td>\n",
       "            <td>25</td>\n",
       "        </tr>\n",
       "        <tr>\n",
       "            <td>10019</td>\n",
       "            <td>25</td>\n",
       "        </tr>\n",
       "        <tr>\n",
       "            <td>10021</td>\n",
       "            <td>25</td>\n",
       "        </tr>\n",
       "        <tr>\n",
       "            <td>10022</td>\n",
       "            <td>25</td>\n",
       "        </tr>\n",
       "        <tr>\n",
       "            <td>10023</td>\n",
       "            <td>25</td>\n",
       "        </tr>\n",
       "        <tr>\n",
       "            <td>10024</td>\n",
       "            <td>25</td>\n",
       "        </tr>\n",
       "        <tr>\n",
       "            <td>10025</td>\n",
       "            <td>25</td>\n",
       "        </tr>\n",
       "        <tr>\n",
       "            <td>10027</td>\n",
       "            <td>25</td>\n",
       "        </tr>\n",
       "        <tr>\n",
       "            <td>10029</td>\n",
       "            <td>25</td>\n",
       "        </tr>\n",
       "        <tr>\n",
       "            <td>10032</td>\n",
       "            <td>25</td>\n",
       "        </tr>\n",
       "        <tr>\n",
       "            <td>10033</td>\n",
       "            <td>25</td>\n",
       "        </tr>\n",
       "        <tr>\n",
       "            <td>10034</td>\n",
       "            <td>25</td>\n",
       "        </tr>\n",
       "        <tr>\n",
       "            <td>10035</td>\n",
       "            <td>25</td>\n",
       "        </tr>\n",
       "        <tr>\n",
       "            <td>10036</td>\n",
       "            <td>25</td>\n",
       "        </tr>\n",
       "        <tr>\n",
       "            <td>10038</td>\n",
       "            <td>28</td>\n",
       "        </tr>\n",
       "        <tr>\n",
       "            <td>10039</td>\n",
       "            <td>28</td>\n",
       "        </tr>\n",
       "        <tr>\n",
       "            <td>10040</td>\n",
       "            <td>25</td>\n",
       "        </tr>\n",
       "        <tr>\n",
       "            <td>10043</td>\n",
       "            <td>25</td>\n",
       "        </tr>\n",
       "        <tr>\n",
       "            <td>10044</td>\n",
       "            <td>25</td>\n",
       "        </tr>\n",
       "        <tr>\n",
       "            <td>10045</td>\n",
       "            <td>25</td>\n",
       "        </tr>\n",
       "        <tr>\n",
       "            <td>10046</td>\n",
       "            <td>28</td>\n",
       "        </tr>\n",
       "        <tr>\n",
       "            <td>10047</td>\n",
       "            <td>25</td>\n",
       "        </tr>\n",
       "        <tr>\n",
       "            <td>10049</td>\n",
       "            <td>25</td>\n",
       "        </tr>\n",
       "        <tr>\n",
       "            <td>10050</td>\n",
       "            <td>20</td>\n",
       "        </tr>\n",
       "        <tr>\n",
       "            <td>10055</td>\n",
       "            <td>17</td>\n",
       "        </tr>\n",
       "        <tr>\n",
       "            <td>10056</td>\n",
       "            <td>5</td>\n",
       "        </tr>\n",
       "        <tr>\n",
       "            <td>10085</td>\n",
       "            <td>1</td>\n",
       "        </tr>\n",
       "        <tr>\n",
       "            <td>10086</td>\n",
       "            <td>25</td>\n",
       "        </tr>\n",
       "        <tr>\n",
       "            <td>10087</td>\n",
       "            <td>13</td>\n",
       "        </tr>\n",
       "        <tr>\n",
       "            <td>10108</td>\n",
       "            <td>20</td>\n",
       "        </tr>\n",
       "        <tr>\n",
       "            <td>10158</td>\n",
       "            <td>2</td>\n",
       "        </tr>\n",
       "        <tr>\n",
       "            <td>10164</td>\n",
       "            <td>18</td>\n",
       "        </tr>\n",
       "        <tr>\n",
       "            <td>20017</td>\n",
       "            <td>18</td>\n",
       "        </tr>\n",
       "        <tr>\n",
       "            <td>20018</td>\n",
       "            <td>2</td>\n",
       "        </tr>\n",
       "    </tbody>\n",
       "</table>"
      ],
      "text/plain": [
       "[(10001, 25),\n",
       " (10005, 25),\n",
       " (10006, 25),\n",
       " (10007, 25),\n",
       " (10008, 25),\n",
       " (10009, 25),\n",
       " (10010, 25),\n",
       " (10011, 25),\n",
       " (10012, 25),\n",
       " (10015, 25),\n",
       " (10016, 25),\n",
       " (10018, 25),\n",
       " (10019, 25),\n",
       " (10021, 25),\n",
       " (10022, 25),\n",
       " (10023, 25),\n",
       " (10024, 25),\n",
       " (10025, 25),\n",
       " (10027, 25),\n",
       " (10029, 25),\n",
       " (10032, 25),\n",
       " (10033, 25),\n",
       " (10034, 25),\n",
       " (10035, 25),\n",
       " (10036, 25),\n",
       " (10038, 28),\n",
       " (10039, 28),\n",
       " (10040, 25),\n",
       " (10043, 25),\n",
       " (10044, 25),\n",
       " (10045, 25),\n",
       " (10046, 28),\n",
       " (10047, 25),\n",
       " (10049, 25),\n",
       " (10050, 20),\n",
       " (10055, 17),\n",
       " (10056, 5),\n",
       " (10085, 1),\n",
       " (10086, 25),\n",
       " (10087, 13),\n",
       " (10108, 20),\n",
       " (10158, 2),\n",
       " (10164, 18),\n",
       " (20017, 18),\n",
       " (20018, 2)]"
      ]
     },
     "execution_count": 17,
     "metadata": {},
     "output_type": "execute_result"
    }
   ],
   "source": [
    "%%sql \n",
    "-- Part 1a (do not remove/change this line)\n",
    "-- Your query goes in this cell below this line\n",
    "SELECT h.provider, COUNT(*) AS numOfRows\n",
    "FROM hospital h\n",
    "GROUP BY h.provider\n"
   ]
  },
  {
   "cell_type": "code",
   "execution_count": 24,
   "metadata": {},
   "outputs": [
    {
     "name": "stdout",
     "output_type": "stream",
     "text": [
      " * sqlite:///hospital.db\n",
      "Done.\n"
     ]
    },
    {
     "data": {
      "text/html": [
       "<table>\n",
       "    <thead>\n",
       "        <tr>\n",
       "            <th>provider</th>\n",
       "            <th>numOfRows</th>\n",
       "        </tr>\n",
       "    </thead>\n",
       "    <tbody>\n",
       "    </tbody>\n",
       "</table>"
      ],
      "text/plain": [
       "[]"
      ]
     },
     "execution_count": 24,
     "metadata": {},
     "output_type": "execute_result"
    }
   ],
   "source": [
    "%%sql \n",
    "-- Part 1a CHECK da se trgne\n",
    "SELECT DISTINCT h.provider, COUNT(*) AS numOfRows\n",
    "FROM hospital h\n",
    "GROUP BY h.provider, h.condition, h.measure_code\n",
    "HAVING numOfRows > 1"
   ]
  },
  {
   "cell_type": "markdown",
   "metadata": {},
   "source": [
    "### Part (b) [10 points]\n",
    "\n",
    "Does $\\{Zip\\} \\rightarrow \\{City, State\\}$ hold for relation $Hospital$?"
   ]
  },
  {
   "cell_type": "code",
   "execution_count": 38,
   "metadata": {
    "tags": []
   },
   "outputs": [
    {
     "name": "stdout",
     "output_type": "stream",
     "text": [
      " * sqlite:///hospital.db\n",
      "Done.\n"
     ]
    },
    {
     "data": {
      "text/html": [
       "<table>\n",
       "    <thead>\n",
       "        <tr>\n",
       "            <th>zip</th>\n",
       "            <th>zipCount</th>\n",
       "        </tr>\n",
       "    </thead>\n",
       "    <tbody>\n",
       "    </tbody>\n",
       "</table>"
      ],
      "text/plain": [
       "[]"
      ]
     },
     "execution_count": 38,
     "metadata": {},
     "output_type": "execute_result"
    }
   ],
   "source": [
    "%%sql \n",
    "-- Part 1b (do not remove/change this line)\n",
    "-- Your query goes in this cell below this line\n",
    "\n",
    "SELECT h.zip, COUNT(*) AS zipCount\n",
    "FROM (SELECT DISTINCT h.state, h.city, h.zip\n",
    "        FROM hospital h) AS h\n",
    "GROUP BY h.zip\n",
    "HAVING zipCount > 1\n",
    "\n"
   ]
  },
  {
   "cell_type": "markdown",
   "metadata": {},
   "source": [
    "Problem 2: Superkeys & Decompositions [25 points]\n",
    "---------\n",
    "\n",
    "Consider a relation $S(A,B,C,D,E,F)$ with the following functional dependencies:\n",
    "\n",
    "* $\\{A\\} \\rightarrow \\{D\\}$\n",
    "* $\\{A\\} \\rightarrow \\{E\\}$\n",
    "* $\\{D\\} \\rightarrow \\{C\\}$\n",
    "* $\\{D\\} \\rightarrow \\{F\\}$\n",
    "\n",
    "In each part of this problem, we will examine different properties the provided schema.\n",
    "\n",
    "To answer **yes**, provide python code that assigns the variable ```answer``` to ```True``` and assigns ```explanation``` to be a python string which contains a (short!) explanation of why.  For example:\n",
    "\n",
    "```python\n",
    "answer = True\n",
    "explanation = \"All keys are superkeys.\"\n",
    "```\n",
    "\n",
    "To answer **no**, provide python code that assigns the variable ```answer``` to ```False``` and assigns ```explanation``` to be a python string which contains a (short!) explanation of why.  For example:\n",
    "\n",
    "```python\n",
    "answer = False\n",
    "explanation = \"D is not a superkey because its closure is {D,C,F}.\"\n",
    "```"
   ]
  },
  {
   "cell_type": "markdown",
   "metadata": {},
   "source": [
    "### Part (a) [5 points]\n",
    "\n",
    "Is it correct that ${A,B}$ is a superkey?"
   ]
  },
  {
   "cell_type": "raw",
   "metadata": {},
   "source": [
    "-- Part 2a (do not remove/change this line)\n",
    "-- Your Answer (TRUE/FALSE): \n",
    "-- Explanation: \n",
    "answer = True\n",
    "explanation = \"(A,B)* = {A,B,C,D,E,F}, hence (A,B) is superkey.\""
   ]
  },
  {
   "cell_type": "markdown",
   "metadata": {},
   "source": [
    "### Part (b) [5 points]\n",
    "\n",
    "Is it correct that the decomposition $ABC$, $CDE$, $EFA$ is lossless-join?"
   ]
  },
  {
   "cell_type": "raw",
   "metadata": {},
   "source": [
    "-- Part 2b (do not remove/change this line)\n",
    "-- Your Answer (TRUE/FALSE): \n",
    "-- Explanation: \n",
    "answer = False\n",
    "explanation = \"(ABC∩CDR = C) C->ABC is false or (ABC∩CDE = C) C->CDE is false\" ne e tocno\n"
   ]
  },
  {
   "cell_type": "markdown",
   "metadata": {},
   "source": [
    "### Part (c) [5 points]\n",
    "\n",
    "Is it correct that the decomposition $ABC$, $CDE$, $EFA$ is dependency preserving?"
   ]
  },
  {
   "cell_type": "raw",
   "metadata": {},
   "source": [
    "-- Part 2c (do not remove/change this line)\n",
    "-- Your Answer (TRUE/FALSE): \n",
    "-- Explanation: \n",
    "answer = False\n",
    "explanation = \"FDs A->D and D->F are not preserved, cannot be created without joinning tables.\""
   ]
  },
  {
   "cell_type": "markdown",
   "metadata": {},
   "source": [
    "### Part (d) [5 points]\n",
    "\n",
    "Is the functional dependency $\\{A\\} \\rightarrow \\{E,F\\}$ logically implied by FDs present in the relation?"
   ]
  },
  {
   "cell_type": "raw",
   "metadata": {},
   "source": [
    "-- Part 2d (do not remove/change this line)\n",
    "-- Your Answer (TRUE/FALSE): \n",
    "-- Explanation: \n",
    "answer = True\n",
    "explanation = \"A->E is in FD, and A->F is implied by A->D D->F. Hence we have: A->E,F\""
   ]
  },
  {
   "cell_type": "markdown",
   "metadata": {},
   "source": [
    "### Part (e) [5 points]\n",
    "\n",
    "Is it correct that relation $S$ is in BCNF? "
   ]
  },
  {
   "cell_type": "raw",
   "metadata": {},
   "source": [
    "-- Part 2e (do not remove/change this line)\n",
    "-- Your Answer (TRUE/FALSE): \n",
    "-- Explanation: \n",
    "answer = False\n",
    "explanation = \"No it is not, becuase A,D is not super key nor B is included in (A,D)*\""
   ]
  },
  {
   "cell_type": "markdown",
   "metadata": {},
   "source": [
    "Problem 3: Relational Algebra [25 points]\n",
    "---------\n",
    "\n",
    "Consider the following relational schema for conference publications:\n",
    "*  `Article(artid, title, confid, numpages)`\n",
    "*  `Conference(confid, name, year, location)`\n",
    "*  `Author(artid, pid)`\n",
    "*  `Person(pid, name, affiliation)`\n",
    "\n",
    "Express the following queries in the extended Relational Algebra (you can also use the aggregation operator if necessary). To write the RA expression, use the LaTex mode that ipython notebook provides. For example:\n",
    "\n",
    "$$\\pi_{name}(\\sigma_{affiliation=\"UW-Madison\"}(Person))$$ "
   ]
  },
  {
   "cell_type": "markdown",
   "metadata": {},
   "source": [
    "### Part (a) [8 points]\n",
    "\n",
    "Output the name of every person affiliated with `UW-Madison` who has published an article in a 2021 conference."
   ]
  },
  {
   "cell_type": "markdown",
   "metadata": {},
   "source": [
    "``` \n",
    "-- Part 3a (do not remove/change this line)\n",
    "-- Your answer goes in this cell below this line\n",
    "```\n",
    "Pi name ((𝜎 conference.year=2021(Conference)) ⋈ Article ⋈ (𝜎 person.affiliation = \"UW-Madison\"(Person)) ⋈ Author) "
   ]
  },
  {
   "cell_type": "markdown",
   "metadata": {},
   "source": [
    "### Part (b) [9 points]\n",
    "\n",
    "Output the names of the people who coauthored an article with `John Doe`. Be careful: a person cannot be coauthor with herself!"
   ]
  },
  {
   "cell_type": "markdown",
   "metadata": {},
   "source": [
    "``` \n",
    "-- Part 3b (do not remove/change this line)\n",
    "-- Your answer goes in this cell below this line\n",
    "```\n",
    "\n",
    "Pi name(Pi artid(𝜎 person.name = \"John Doe\"(Person) ⋈ Author) ⋈ (Pi artid (𝜎 person.name != \"John Doe\"(Person) ⋈ Author))"
   ]
  },
  {
   "cell_type": "markdown",
   "metadata": {},
   "source": [
    "### Part (c) [8 points]\n",
    "\n",
    "Translate the following SQL query to Relational Algebra."
   ]
  },
  {
   "cell_type": "markdown",
   "metadata": {},
   "source": [
    "```sql\n",
    "SELECT pid, COUNT(A.artid)\n",
    "FROM Article A, Conference C, Author U\n",
    "WHERE A.confid = C.confid AND C.name = \"PODS\" AND U.artid = A.artid\n",
    "GROUP BY pid ;\n",
    "```"
   ]
  },
  {
   "cell_type": "markdown",
   "metadata": {},
   "source": [
    "``` \n",
    "-- Part 3c (do not remove/change this line)\n",
    "-- Your answer goes in this cell below this line\n",
    "```\n",
    "Y Author.pid, COUNT(Article.artid)(Article ⋈ 𝜎 Conference.name = \"PODS\"(Conference) ⋈ Author)"
   ]
  },
  {
   "cell_type": "code",
   "execution_count": null,
   "metadata": {},
   "outputs": [],
   "source": []
  }
 ],
 "metadata": {
  "kernelspec": {
   "display_name": "Python 3 (ipykernel)",
   "language": "python",
   "name": "python3"
  },
  "language_info": {
   "codemirror_mode": {
    "name": "ipython",
    "version": 3
   },
   "file_extension": ".py",
   "mimetype": "text/x-python",
   "name": "python",
   "nbconvert_exporter": "python",
   "pygments_lexer": "ipython3",
   "version": "3.10.12"
  }
 },
 "nbformat": 4,
 "nbformat_minor": 4
}
