{
 "cells": [
  {
   "cell_type": "markdown",
   "metadata": {},
   "source": [
    "**Make sure to have a copy of the database file, \"world-db\", downloaded and in this directory for the below to work!**"
   ]
  },
  {
   "cell_type": "code",
   "execution_count": null,
   "metadata": {
    "slideshow": {
     "slide_type": "slide"
    }
   },
   "outputs": [],
   "source": [
    "%load_ext sql\n",
    "%sql sqlite:///./world-db"
   ]
  },
  {
   "cell_type": "markdown",
   "metadata": {},
   "source": [
    "The database `world` has 3 tables: \n",
    "> * `City`\n",
    "> * `Country`\n",
    "> * `CountryLanguage`\n",
    "\n",
    "Recall that to find the schema of a table, we can type the following command:"
   ]
  },
  {
   "cell_type": "code",
   "execution_count": null,
   "metadata": {},
   "outputs": [],
   "source": [
    "%sql SELECT sql FROM sqlite_master ;"
   ]
  },
  {
   "cell_type": "markdown",
   "metadata": {},
   "source": [
    "MULTI-TABLE QUERIES\n",
    "---------------------\n",
    "\n",
    "What are the names of all countries that speak Greek? To answer this question, we need to combine information from two tables by *joining* them."
   ]
  },
  {
   "cell_type": "code",
   "execution_count": null,
   "metadata": {
    "scrolled": true
   },
   "outputs": [],
   "source": [
    "%%sql\n",
    "SELECT Country.Name\n",
    "FROM Country, CountryLanguage\n",
    "WHERE Country.Code = CountryLanguage.CountryCode\n",
    "AND CountryLanguage.Language = 'Greek';"
   ]
  },
  {
   "cell_type": "markdown",
   "metadata": {},
   "source": [
    "Notice how we need to specify the table that each attribute comes from. Another way to write the above query:"
   ]
  },
  {
   "cell_type": "code",
   "execution_count": null,
   "metadata": {},
   "outputs": [],
   "source": [
    "%%sql\n",
    "SELECT C.Name\n",
    "FROM Country C, CountryLanguage L\n",
    "WHERE C.Code = L.CountryCode\n",
    "AND L.Language = 'Greek';"
   ]
  },
  {
   "cell_type": "markdown",
   "metadata": {},
   "source": [
    "**Exercise #3**: write a query that returns the countries that speak at least 50% Greek."
   ]
  },
  {
   "cell_type": "code",
   "execution_count": null,
   "metadata": {},
   "outputs": [],
   "source": []
  },
  {
   "cell_type": "markdown",
   "metadata": {},
   "source": [
    "**Exercise #4**: write a query that returns the district of the capital of USA."
   ]
  },
  {
   "cell_type": "code",
   "execution_count": null,
   "metadata": {
    "scrolled": true
   },
   "outputs": [],
   "source": []
  },
  {
   "cell_type": "markdown",
   "metadata": {},
   "source": [
    "Next, we want to return the countries that speak both Greek and English."
   ]
  },
  {
   "cell_type": "code",
   "execution_count": null,
   "metadata": {},
   "outputs": [],
   "source": [
    "%%sql\n",
    "SELECT C.Name\n",
    "FROM Country C, CountryLanguage L1, CountryLanguage L2\n",
    "WHERE C.Code = L1.CountryCode\n",
    "AND C.Code = L2.CountryCode\n",
    "AND L1.Language = 'Greek'\n",
    "AND L2.Language = 'English';"
   ]
  }
 ],
 "metadata": {
  "kernelspec": {
   "display_name": "Python 3",
   "language": "python",
   "name": "python3"
  },
  "language_info": {
   "codemirror_mode": {
    "name": "ipython",
    "version": 3
   },
   "file_extension": ".py",
   "mimetype": "text/x-python",
   "name": "python",
   "nbconvert_exporter": "python",
   "pygments_lexer": "ipython3",
   "version": "3.8.5"
  }
 },
 "nbformat": 4,
 "nbformat_minor": 1
}
