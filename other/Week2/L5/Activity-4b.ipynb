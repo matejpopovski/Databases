{
 "cells": [
  {
   "cell_type": "markdown",
   "metadata": {},
   "source": [
    "NESTED QUERIES\n",
    "------------"
   ]
  },
  {
   "cell_type": "code",
   "execution_count": null,
   "metadata": {
    "slideshow": {
     "slide_type": "skip"
    }
   },
   "outputs": [],
   "source": [
    "%load_ext sql\n",
    "%sql sqlite:///world-db"
   ]
  },
  {
   "cell_type": "markdown",
   "metadata": {},
   "source": [
    "The next query finds all countries in Europe with population that exceeds the average population of a country in Europe."
   ]
  },
  {
   "cell_type": "code",
   "execution_count": null,
   "metadata": {},
   "outputs": [],
   "source": [
    "%%sql\n",
    "SELECT C.Name\n",
    "FROM Country C\n",
    "WHERE C.Continent = 'Europe'\n",
    " AND C.Population > (\n",
    "    SELECT AVG(Population)\n",
    "    FROM Country\n",
    "    WHERE Continent = 'Europe') ;"
   ]
  },
  {
   "cell_type": "markdown",
   "metadata": {},
   "source": [
    "The next query finds all countries in Europe with population more than 50 million. Notice here that we can nest a SQL query in the `FROM` clause."
   ]
  },
  {
   "cell_type": "code",
   "execution_count": null,
   "metadata": {},
   "outputs": [],
   "source": [
    "%%sql\n",
    "SELECT C.Name\n",
    "FROM (SELECT Name, Continent\n",
    "      FROM Country\n",
    "      WHERE Population >50000000) AS C \n",
    "WHERE C.Continent = 'Europe' ;"
   ]
  },
  {
   "cell_type": "markdown",
   "metadata": {},
   "source": [
    "The `WITH` clause can be added before the `SELECT` statement to define a table that can be used in the main query statement. This can be an alternative syntax to nesting a statement in the `FROM` clause."
   ]
  },
  {
   "cell_type": "code",
   "execution_count": null,
   "metadata": {},
   "outputs": [],
   "source": [
    "%%sql\n",
    "WITH C AS (SELECT Name, Continent\n",
    "      FROM Country\n",
    "      WHERE Population >50000000)\n",
    "SELECT C.Name\n",
    "FROM C\n",
    "WHERE C.Continent = 'Europe' ;"
   ]
  },
  {
   "cell_type": "markdown",
   "metadata": {},
   "source": [
    "It is possible to have multiple `WITH` clauses in the beginning of a query, separated by commas."
   ]
  },
  {
   "cell_type": "markdown",
   "metadata": {},
   "source": [
    "**Exercise #1** Can you unnest this query?"
   ]
  },
  {
   "cell_type": "code",
   "execution_count": null,
   "metadata": {},
   "outputs": [],
   "source": []
  },
  {
   "cell_type": "markdown",
   "metadata": {},
   "source": [
    "The next query outputs all countries in Asia that have some city with population more than 5 million. It uses the `IN` operator."
   ]
  },
  {
   "cell_type": "code",
   "execution_count": null,
   "metadata": {},
   "outputs": [],
   "source": [
    "%%sql\n",
    "SELECT C.Name\n",
    "FROM Country C\n",
    "WHERE C.Continent = 'Asia'\n",
    "AND C.Code IN (SELECT CountryCode\n",
    "               FROM City\n",
    "               WHERE Population > 5000000);"
   ]
  },
  {
   "cell_type": "markdown",
   "metadata": {},
   "source": [
    "An equivalent way to write the above query is by using the `EXISTS` statement. \n",
    "\n",
    "We call the subquery below `correlated`, because it uses a variable name that is `not` defined in the scope of the subquery."
   ]
  },
  {
   "cell_type": "code",
   "execution_count": null,
   "metadata": {},
   "outputs": [],
   "source": [
    "%%sql\n",
    "SELECT C.Name\n",
    "FROM Country C\n",
    "WHERE C.Continent = 'Asia'\n",
    "AND EXISTS (SELECT *\n",
    "            FROM City T\n",
    "            WHERE T.Population > 5000000 \n",
    "            AND T.CountryCode = C.Code);"
   ]
  },
  {
   "cell_type": "markdown",
   "metadata": {},
   "source": [
    "We can even rewrite the above query using `ANY`. Unfortunately, SQLite does not support ANY/ALL, and thus running the query below will give an error."
   ]
  },
  {
   "cell_type": "code",
   "execution_count": null,
   "metadata": {},
   "outputs": [],
   "source": [
    "%%sql\n",
    "SELECT C.Name\n",
    "FROM Country C\n",
    "WHERE C.Continent = 'Asia'\n",
    "AND 5000000 <= ANY (SELECT T.Population\n",
    "                    FROM City T\n",
    "                    WHERE T.CountryCode = C.Code);"
   ]
  },
  {
   "cell_type": "markdown",
   "metadata": {},
   "source": [
    "**Exercise #2** Can you unnest the above query?"
   ]
  },
  {
   "cell_type": "code",
   "execution_count": null,
   "metadata": {},
   "outputs": [],
   "source": []
  },
  {
   "cell_type": "markdown",
   "metadata": {},
   "source": [
    "Our final query for this activity outputs all countries in Europe that have **all** cities with population less than 1 million. "
   ]
  },
  {
   "cell_type": "code",
   "execution_count": null,
   "metadata": {},
   "outputs": [],
   "source": [
    "%%sql\n",
    "SELECT C.Name\n",
    "FROM Country C\n",
    "WHERE C.Continent = 'Europe'\n",
    "AND NOT EXISTS (SELECT *\n",
    "                FROM City T\n",
    "                WHERE T.Population > 1000000 \n",
    "                AND T.CountryCode = C.Code);"
   ]
  },
  {
   "cell_type": "markdown",
   "metadata": {},
   "source": [
    "**Exercise #3** Can you write the above query without nesting? Use instead the `EXCEPT` set operator!"
   ]
  },
  {
   "cell_type": "code",
   "execution_count": null,
   "metadata": {},
   "outputs": [],
   "source": []
  }
 ],
 "metadata": {
  "kernelspec": {
   "display_name": "Python 3",
   "language": "python",
   "name": "python3"
  },
  "language_info": {
   "codemirror_mode": {
    "name": "ipython",
    "version": 3
   },
   "file_extension": ".py",
   "mimetype": "text/x-python",
   "name": "python",
   "nbconvert_exporter": "python",
   "pygments_lexer": "ipython3",
   "version": "3.8.5"
  }
 },
 "nbformat": 4,
 "nbformat_minor": 1
}
