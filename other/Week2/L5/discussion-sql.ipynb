{
 "cells": [
  {
   "cell_type": "markdown",
   "metadata": {
    "slideshow": {
     "slide_type": "skip"
    }
   },
   "source": [
    "SQL Miscellanea\n",
    "-----"
   ]
  },
  {
   "cell_type": "code",
   "execution_count": null,
   "metadata": {
    "slideshow": {
     "slide_type": "skip"
    }
   },
   "outputs": [],
   "source": [
    "%load_ext sql\n",
    "%sql sqlite:///world-db"
   ]
  },
  {
   "cell_type": "markdown",
   "metadata": {
    "collapsed": true
   },
   "source": [
    "We can create views in SQL. Views are not stored as tables (materialized), but they can be used inside other SQL queries as normal tables."
   ]
  },
  {
   "cell_type": "code",
   "execution_count": null,
   "metadata": {},
   "outputs": [],
   "source": [
    "%%sql\n",
    "select * from Countrylanguage limit 5"
   ]
  },
  {
   "cell_type": "code",
   "execution_count": null,
   "metadata": {},
   "outputs": [],
   "source": [
    "%%sql\n",
    "DROP VIEW OfficialCountryLanguage;\n",
    "\n",
    "CREATE VIEW OfficialCountryLanguage AS\n",
    "SELECT C.Name AS CountryName, L.Language AS Language\n",
    "FROM CountryLanguage L, Country C\n",
    "WHERE L.CountryCode = C.Code\n",
    "AND L.IsOfficial = 'T' ;"
   ]
  },
  {
   "cell_type": "code",
   "execution_count": null,
   "metadata": {},
   "outputs": [],
   "source": [
    "%sql SELECT * FROM OfficialCountryLanguage LIMIT 10;"
   ]
  },
  {
   "cell_type": "markdown",
   "metadata": {},
   "source": [
    "**COMPUTING THE LONGEST SEQUENCE OF CONSECUTIVE NUMBERS**\n",
    "\n",
    "\n",
    "In the following, we are given a table with a single column. Our goal is to compute the length of the longest sequence of consecutive numbers.\n",
    "\n",
    "We define the following table for our case:"
   ]
  },
  {
   "cell_type": "code",
   "execution_count": null,
   "metadata": {},
   "outputs": [],
   "source": [
    "%%sql\n",
    "DROP TABLE IF EXISTS R;\n",
    "CREATE TABLE R(A integer);\n",
    "INSERT INTO R Values (1),(2),(5),(9),(3),(10),(25);"
   ]
  },
  {
   "cell_type": "markdown",
   "metadata": {},
   "source": [
    "To express this query, we make use of the function `row_number`. This function returns the sequential number of a row within a table. It can be used with an `ORDER BY` clause, so that we can specify a desired order in which we want to number the rows.\n",
    "\n",
    "Let's see what happens if we use this!"
   ]
  },
  {
   "cell_type": "code",
   "execution_count": null,
   "metadata": {},
   "outputs": [],
   "source": [
    "%%sql\n",
    "SELECT A,(row_number() OVER (ORDER BY A ASC)) AS B\n",
    "FROM R ;"
   ]
  },
  {
   "cell_type": "code",
   "execution_count": null,
   "metadata": {},
   "outputs": [],
   "source": [
    "%%sql\n",
    "WITH num AS\n",
    "(SELECT A,(A - row_number() OVER (ORDER BY A)) AS B FROM R)\n",
    "SELECT MIN(A) AS start, MAX(A) AS end, COUNT(*) AS length\n",
    "FROM num\n",
    "GROUP BY B\n",
    "ORDER BY length DESC;"
   ]
  },
  {
   "cell_type": "markdown",
   "metadata": {},
   "source": [
    "**MEDIAN**\n",
    "\n",
    "In the following, we will show how one can compute the *median* of a table column using SQL. Recall that to compute the median of a (multi)set of *n* values, we first order the values; then, we return the middle number if *n* is odd, otherwise the average of the two middle numbers. We use the table R from above.\n",
    "\n",
    "We can easily compute the median using `row_number`- the query below only works for an odd numer of elements."
   ]
  },
  {
   "cell_type": "code",
   "execution_count": null,
   "metadata": {},
   "outputs": [],
   "source": [
    "%%sql\n",
    "WITH num AS\n",
    "(SELECT A, (row_number() OVER (ORDER BY A)) AS B FROM R)\n",
    "SELECT A\n",
    "FROM num\n",
    "WHERE B*2 = (SELECT COUNT(*) FROM num)+1;"
   ]
  },
  {
   "cell_type": "markdown",
   "metadata": {},
   "source": [
    "Next, we will see how to compute the median without using `row_number`! We will first solve a simplified version of the median problem. Let's for now assume that:\n",
    "* the number of elements is odd\n",
    "* there are no duplicate values"
   ]
  },
  {
   "cell_type": "code",
   "execution_count": null,
   "metadata": {},
   "outputs": [],
   "source": [
    "%%sql\n",
    "SELECT X.A\n",
    "FROM R AS X\n",
    "WHERE (SELECT COUNT(*) FROM R AS X1 WHERE X.A > X1.A) \n",
    "= (SELECT COUNT(*) FROM R AS X2 WHERE X.A < X2.A);"
   ]
  },
  {
   "cell_type": "markdown",
   "metadata": {},
   "source": [
    "The above solution will not work if our two assumptions do not hold (why?). Let us rewrite the query so that we can solve the general median problem."
   ]
  },
  {
   "cell_type": "code",
   "execution_count": null,
   "metadata": {},
   "outputs": [],
   "source": [
    "%%sql\n",
    "SELECT AVG(DISTINCT X.A)\n",
    "FROM R AS X\n",
    "WHERE (SELECT COUNT(*) FROM R AS X1 WHERE X.A >= X1.A) >= (SELECT COUNT(*) FROM R AS X2 WHERE X.A < X2.A)\n",
    "AND (SELECT COUNT(*) FROM R AS X1 WHERE X.A > X1.A) <= (SELECT COUNT(*) FROM R AS X2 WHERE X.A <= X2.A);"
   ]
  },
  {
   "cell_type": "markdown",
   "metadata": {},
   "source": [
    "**Paths in Graphs**\n",
    "\n",
    "We will next show how we can compute some queries on a graph. Here, we represent the graph a single relation with schema `Edge(source, target, distance)`."
   ]
  },
  {
   "cell_type": "code",
   "execution_count": null,
   "metadata": {},
   "outputs": [],
   "source": [
    "%%sql\n",
    "DROP TABLE IF EXISTS Edge;\n",
    "CREATE TABLE Edge (source integer, target integer, distance integer);\n",
    "INSERT INTO Edge VALUES (1,2,10),(2,3,10),(3,4,20),(4,1,30),(1,3,5); "
   ]
  },
  {
   "cell_type": "markdown",
   "metadata": {},
   "source": [
    "The query below computes the number of outgoing edges for each vertex."
   ]
  },
  {
   "cell_type": "code",
   "execution_count": null,
   "metadata": {},
   "outputs": [],
   "source": [
    "%%sql\n",
    "SELECT source, COUNT(target)\n",
    "FROM Edge\n",
    "GROUP BY source;"
   ]
  },
  {
   "cell_type": "markdown",
   "metadata": {},
   "source": [
    "Next, we want to find all the directed paths of length 2 in the graph."
   ]
  },
  {
   "cell_type": "code",
   "execution_count": null,
   "metadata": {},
   "outputs": [],
   "source": [
    "%%sql\n",
    "SELECT e1.source, e1.target, e2.target, e3.target\n",
    "FROM Edge e1, Edge e2, Edge e3\n",
    "WHERE e1.target = e2.source AND e2.target = e3.source; "
   ]
  },
  {
   "cell_type": "markdown",
   "metadata": {},
   "source": [
    "Can we also compute the distance of each path?"
   ]
  },
  {
   "cell_type": "code",
   "execution_count": null,
   "metadata": {},
   "outputs": [],
   "source": [
    "%%sql\n",
    "SELECT e1.source, e1.target, e2.target, (e1.distance+e2.distance)\n",
    "FROM Edge e1, Edge e2\n",
    "WHERE e1.target = e2.source; "
   ]
  }
 ],
 "metadata": {
  "kernelspec": {
   "display_name": "Python 3",
   "language": "python",
   "name": "python3"
  },
  "language_info": {
   "codemirror_mode": {
    "name": "ipython",
    "version": 3
   },
   "file_extension": ".py",
   "mimetype": "text/x-python",
   "name": "python",
   "nbconvert_exporter": "python",
   "pygments_lexer": "ipython3",
   "version": "3.8.5"
  }
 },
 "nbformat": 4,
 "nbformat_minor": 1
}
